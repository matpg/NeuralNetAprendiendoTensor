{
  "nbformat": 4,
  "nbformat_minor": 0,
  "metadata": {
    "colab": {
      "name": "BreastCancerNet.ipynb",
      "provenance": [],
      "collapsed_sections": [],
      "include_colab_link": true
    },
    "kernelspec": {
      "name": "python3",
      "display_name": "Python 3"
    },
    "accelerator": "GPU"
  },
  "cells": [
    {
      "cell_type": "markdown",
      "metadata": {
        "id": "view-in-github",
        "colab_type": "text"
      },
      "source": [
        "<a href=\"https://colab.research.google.com/github/matpg/NeuralNetAprendiendoTensor/blob/master/BreastCancerNet.ipynb\" target=\"_parent\"><img src=\"https://colab.research.google.com/assets/colab-badge.svg\" alt=\"Open In Colab\"/></a>"
      ]
    },
    {
      "cell_type": "markdown",
      "metadata": {
        "id": "Oex88qd38Thn",
        "colab_type": "text"
      },
      "source": [
        "## Cargar el Dataset ##\n",
        "En estas primeras lineas instalé tensorflow aunque venga por defecto e imprimo la version del tf.\n",
        "En segundo lugar pido por al usuario los archivos .CSV para guardar el training data y el test data (esta dataset está previmiamente ordenada y normalizada). \n",
        "DATASET: Wisconsin breast cancer dataset\n",
        "OUTPUT esperado: valores de 0 y 1(un 0 si es benigno y un 1 si es maligno)."
      ]
    },
    {
      "cell_type": "code",
      "metadata": {
        "colab_type": "code",
        "outputId": "415e763f-7965-4bdb-df48-e4e5db1962cf",
        "id": "D4hlE1YZoHUT",
        "colab": {
          "resources": {
            "http://localhost:8080/nbextensions/google.colab/files.js": {
              "data": "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",
              "ok": true,
              "headers": [
                [
                  "content-type",
                  "application/javascript"
                ]
              ],
              "status": 200,
              "status_text": "OK"
            }
          },
          "base_uri": "https://localhost:8080/",
          "height": 182
        }
      },
      "source": [
        "import pandas as pd\n",
        "import tensorflow as tf\n",
        "\n",
        "from google.colab import files\n",
        "file = files.upload()\n",
        "X_train = pd.read_csv(\"xtrain.csv\", header=None)\n",
        "Y_train = pd.read_csv(\"ytrain.csv\", header=None)\n",
        "X_test = pd.read_csv(\"xtest.csv\", header=None)\n",
        "Y_test = pd.read_csv(\"ytest.csv\", header=None)"
      ],
      "execution_count": 48,
      "outputs": [
        {
          "output_type": "display_data",
          "data": {
            "text/html": [
              "\n",
              "     <input type=\"file\" id=\"files-04d76891-cb0b-48ce-b123-973726a717df\" name=\"files[]\" multiple disabled />\n",
              "     <output id=\"result-04d76891-cb0b-48ce-b123-973726a717df\">\n",
              "      Upload widget is only available when the cell has been executed in the\n",
              "      current browser session. Please rerun this cell to enable.\n",
              "      </output>\n",
              "      <script src=\"/nbextensions/google.colab/files.js\"></script> "
            ],
            "text/plain": [
              "<IPython.core.display.HTML object>"
            ]
          },
          "metadata": {
            "tags": []
          }
        },
        {
          "output_type": "stream",
          "text": [
            "Saving xtest.csv to xtest (1).csv\n",
            "Saving xtrain.csv to xtrain (1).csv\n",
            "Saving ytest.csv to ytest (1).csv\n",
            "Saving ytrain.csv to ytrain (1).csv\n"
          ],
          "name": "stdout"
        }
      ]
    },
    {
      "cell_type": "markdown",
      "metadata": {
        "id": "ZV-Um6LCZMkE",
        "colab_type": "text"
      },
      "source": [
        "En esta linea se puede apreciar algunos valores de entrenamiento."
      ]
    },
    {
      "cell_type": "code",
      "metadata": {
        "id": "HfSRIf--YMkH",
        "colab_type": "code",
        "outputId": "942fccdc-0b2a-4867-ea82-e0d4a0feea7e",
        "colab": {
          "base_uri": "https://localhost:8080/",
          "height": 226
        }
      },
      "source": [
        "X_train.head()"
      ],
      "execution_count": 49,
      "outputs": [
        {
          "output_type": "execute_result",
          "data": {
            "text/html": [
              "<div>\n",
              "<style scoped>\n",
              "    .dataframe tbody tr th:only-of-type {\n",
              "        vertical-align: middle;\n",
              "    }\n",
              "\n",
              "    .dataframe tbody tr th {\n",
              "        vertical-align: top;\n",
              "    }\n",
              "\n",
              "    .dataframe thead th {\n",
              "        text-align: right;\n",
              "    }\n",
              "</style>\n",
              "<table border=\"1\" class=\"dataframe\">\n",
              "  <thead>\n",
              "    <tr style=\"text-align: right;\">\n",
              "      <th></th>\n",
              "      <th>0</th>\n",
              "      <th>1</th>\n",
              "      <th>2</th>\n",
              "      <th>3</th>\n",
              "      <th>4</th>\n",
              "      <th>5</th>\n",
              "      <th>6</th>\n",
              "      <th>7</th>\n",
              "      <th>8</th>\n",
              "      <th>9</th>\n",
              "      <th>10</th>\n",
              "      <th>11</th>\n",
              "      <th>12</th>\n",
              "      <th>13</th>\n",
              "      <th>14</th>\n",
              "      <th>15</th>\n",
              "      <th>16</th>\n",
              "      <th>17</th>\n",
              "      <th>18</th>\n",
              "      <th>19</th>\n",
              "      <th>20</th>\n",
              "      <th>21</th>\n",
              "      <th>22</th>\n",
              "      <th>23</th>\n",
              "      <th>24</th>\n",
              "      <th>25</th>\n",
              "      <th>26</th>\n",
              "      <th>27</th>\n",
              "      <th>28</th>\n",
              "      <th>29</th>\n",
              "    </tr>\n",
              "  </thead>\n",
              "  <tbody>\n",
              "    <tr>\n",
              "      <th>0</th>\n",
              "      <td>-1.150365</td>\n",
              "      <td>-0.390642</td>\n",
              "      <td>-1.128550</td>\n",
              "      <td>-0.958764</td>\n",
              "      <td>0.310984</td>\n",
              "      <td>-0.595995</td>\n",
              "      <td>-0.802596</td>\n",
              "      <td>-0.802490</td>\n",
              "      <td>0.294539</td>\n",
              "      <td>0.094251</td>\n",
              "      <td>-0.495052</td>\n",
              "      <td>1.487202</td>\n",
              "      <td>-0.514488</td>\n",
              "      <td>-0.491540</td>\n",
              "      <td>0.281498</td>\n",
              "      <td>-0.604512</td>\n",
              "      <td>-0.469007</td>\n",
              "      <td>-0.611700</td>\n",
              "      <td>0.057982</td>\n",
              "      <td>-0.357637</td>\n",
              "      <td>-1.043176</td>\n",
              "      <td>0.213533</td>\n",
              "      <td>-1.036045</td>\n",
              "      <td>-0.848808</td>\n",
              "      <td>0.342499</td>\n",
              "      <td>-0.730097</td>\n",
              "      <td>-0.812321</td>\n",
              "      <td>-0.757984</td>\n",
              "      <td>-0.016148</td>\n",
              "      <td>-0.385034</td>\n",
              "    </tr>\n",
              "    <tr>\n",
              "      <th>1</th>\n",
              "      <td>-0.937990</td>\n",
              "      <td>0.680514</td>\n",
              "      <td>-0.948201</td>\n",
              "      <td>-0.821525</td>\n",
              "      <td>-0.609636</td>\n",
              "      <td>-0.909867</td>\n",
              "      <td>-0.660669</td>\n",
              "      <td>-0.898716</td>\n",
              "      <td>0.754935</td>\n",
              "      <td>-0.425471</td>\n",
              "      <td>-0.333818</td>\n",
              "      <td>0.759412</td>\n",
              "      <td>-0.287518</td>\n",
              "      <td>-0.421277</td>\n",
              "      <td>-0.162080</td>\n",
              "      <td>-0.204867</td>\n",
              "      <td>-0.050296</td>\n",
              "      <td>-0.203091</td>\n",
              "      <td>-0.254690</td>\n",
              "      <td>-0.391395</td>\n",
              "      <td>-0.715654</td>\n",
              "      <td>1.066842</td>\n",
              "      <td>-0.689922</td>\n",
              "      <td>-0.668697</td>\n",
              "      <td>-0.095537</td>\n",
              "      <td>-0.537866</td>\n",
              "      <td>-0.375048</td>\n",
              "      <td>-0.606870</td>\n",
              "      <td>0.096690</td>\n",
              "      <td>-0.386158</td>\n",
              "    </tr>\n",
              "    <tr>\n",
              "      <th>2</th>\n",
              "      <td>0.574121</td>\n",
              "      <td>-1.033336</td>\n",
              "      <td>0.513941</td>\n",
              "      <td>0.408586</td>\n",
              "      <td>-0.106161</td>\n",
              "      <td>-0.363019</td>\n",
              "      <td>-0.417990</td>\n",
              "      <td>-0.088446</td>\n",
              "      <td>-0.271820</td>\n",
              "      <td>-0.575221</td>\n",
              "      <td>-0.576726</td>\n",
              "      <td>-1.057845</td>\n",
              "      <td>-0.538560</td>\n",
              "      <td>-0.387089</td>\n",
              "      <td>-1.072119</td>\n",
              "      <td>-0.720575</td>\n",
              "      <td>-0.423628</td>\n",
              "      <td>-0.492190</td>\n",
              "      <td>-0.674844</td>\n",
              "      <td>-0.801473</td>\n",
              "      <td>0.297615</td>\n",
              "      <td>-0.977818</td>\n",
              "      <td>0.262137</td>\n",
              "      <td>0.113888</td>\n",
              "      <td>-0.524724</td>\n",
              "      <td>-0.520866</td>\n",
              "      <td>-0.182989</td>\n",
              "      <td>-0.023719</td>\n",
              "      <td>-0.200502</td>\n",
              "      <td>-0.751443</td>\n",
              "    </tr>\n",
              "    <tr>\n",
              "      <th>3</th>\n",
              "      <td>-0.547220</td>\n",
              "      <td>-0.316022</td>\n",
              "      <td>-0.577622</td>\n",
              "      <td>-0.566615</td>\n",
              "      <td>0.586662</td>\n",
              "      <td>-0.649331</td>\n",
              "      <td>-0.805298</td>\n",
              "      <td>-0.500065</td>\n",
              "      <td>0.331078</td>\n",
              "      <td>0.540567</td>\n",
              "      <td>-0.128226</td>\n",
              "      <td>0.556222</td>\n",
              "      <td>-0.204001</td>\n",
              "      <td>-0.332347</td>\n",
              "      <td>-0.552851</td>\n",
              "      <td>-0.758881</td>\n",
              "      <td>-0.648914</td>\n",
              "      <td>0.601566</td>\n",
              "      <td>0.204548</td>\n",
              "      <td>-0.115963</td>\n",
              "      <td>-0.701325</td>\n",
              "      <td>-0.757927</td>\n",
              "      <td>-0.735737</td>\n",
              "      <td>-0.658966</td>\n",
              "      <td>-0.816748</td>\n",
              "      <td>-1.034921</td>\n",
              "      <td>-1.091633</td>\n",
              "      <td>-0.852545</td>\n",
              "      <td>-1.076186</td>\n",
              "      <td>-0.546883</td>\n",
              "    </tr>\n",
              "    <tr>\n",
              "      <th>4</th>\n",
              "      <td>-0.527398</td>\n",
              "      <td>0.791240</td>\n",
              "      <td>-0.561563</td>\n",
              "      <td>-0.523571</td>\n",
              "      <td>-1.051446</td>\n",
              "      <td>-1.017532</td>\n",
              "      <td>-0.905149</td>\n",
              "      <td>-0.935806</td>\n",
              "      <td>-0.969721</td>\n",
              "      <td>-0.426939</td>\n",
              "      <td>-0.628828</td>\n",
              "      <td>-0.130929</td>\n",
              "      <td>-0.613234</td>\n",
              "      <td>-0.466581</td>\n",
              "      <td>-0.671490</td>\n",
              "      <td>-0.744016</td>\n",
              "      <td>-0.710063</td>\n",
              "      <td>-1.204498</td>\n",
              "      <td>-0.542935</td>\n",
              "      <td>-0.503025</td>\n",
              "      <td>-0.427026</td>\n",
              "      <td>1.058637</td>\n",
              "      <td>-0.422423</td>\n",
              "      <td>-0.440955</td>\n",
              "      <td>-0.303494</td>\n",
              "      <td>-0.467251</td>\n",
              "      <td>-0.724565</td>\n",
              "      <td>-0.783118</td>\n",
              "      <td>0.311240</td>\n",
              "      <td>-0.082129</td>\n",
              "    </tr>\n",
              "  </tbody>\n",
              "</table>\n",
              "</div>"
            ],
            "text/plain": [
              "         0         1         2   ...        27        28        29\n",
              "0 -1.150365 -0.390642 -1.128550  ... -0.757984 -0.016148 -0.385034\n",
              "1 -0.937990  0.680514 -0.948201  ... -0.606870  0.096690 -0.386158\n",
              "2  0.574121 -1.033336  0.513941  ... -0.023719 -0.200502 -0.751443\n",
              "3 -0.547220 -0.316022 -0.577622  ... -0.852545 -1.076186 -0.546883\n",
              "4 -0.527398  0.791240 -0.561563  ... -0.783118  0.311240 -0.082129\n",
              "\n",
              "[5 rows x 30 columns]"
            ]
          },
          "metadata": {
            "tags": []
          },
          "execution_count": 49
        }
      ]
    },
    {
      "cell_type": "markdown",
      "metadata": {
        "id": "_0jHABZ0ZmC1",
        "colab_type": "text"
      },
      "source": [
        "Aqui tenemos la representacion binaria de un tumor benigno o maligno"
      ]
    },
    {
      "cell_type": "code",
      "metadata": {
        "id": "7AVM4iQcZSmV",
        "colab_type": "code",
        "outputId": "8c539489-c55f-494e-83bd-199eb4d9c527",
        "colab": {
          "base_uri": "https://localhost:8080/",
          "height": 206
        }
      },
      "source": [
        "Y_train.head()"
      ],
      "execution_count": 7,
      "outputs": [
        {
          "output_type": "execute_result",
          "data": {
            "text/html": [
              "<div>\n",
              "<style scoped>\n",
              "    .dataframe tbody tr th:only-of-type {\n",
              "        vertical-align: middle;\n",
              "    }\n",
              "\n",
              "    .dataframe tbody tr th {\n",
              "        vertical-align: top;\n",
              "    }\n",
              "\n",
              "    .dataframe thead th {\n",
              "        text-align: right;\n",
              "    }\n",
              "</style>\n",
              "<table border=\"1\" class=\"dataframe\">\n",
              "  <thead>\n",
              "    <tr style=\"text-align: right;\">\n",
              "      <th></th>\n",
              "      <th>0</th>\n",
              "    </tr>\n",
              "  </thead>\n",
              "  <tbody>\n",
              "    <tr>\n",
              "      <th>0</th>\n",
              "      <td>0.0</td>\n",
              "    </tr>\n",
              "    <tr>\n",
              "      <th>1</th>\n",
              "      <td>0.0</td>\n",
              "    </tr>\n",
              "    <tr>\n",
              "      <th>2</th>\n",
              "      <td>0.0</td>\n",
              "    </tr>\n",
              "    <tr>\n",
              "      <th>3</th>\n",
              "      <td>0.0</td>\n",
              "    </tr>\n",
              "    <tr>\n",
              "      <th>4</th>\n",
              "      <td>0.0</td>\n",
              "    </tr>\n",
              "  </tbody>\n",
              "</table>\n",
              "</div>"
            ],
            "text/plain": [
              "     0\n",
              "0  0.0\n",
              "1  0.0\n",
              "2  0.0\n",
              "3  0.0\n",
              "4  0.0"
            ]
          },
          "metadata": {
            "tags": []
          },
          "execution_count": 7
        }
      ]
    },
    {
      "cell_type": "markdown",
      "metadata": {
        "id": "bL4z0BArzqff",
        "colab_type": "text"
      },
      "source": [
        "## Estructura de la Red ##\n",
        "Usé Keras para definir el modelo de NeuralNet que voy a usar la cual va a ser entrenada con los training data para predecir futuros casos de cáncer de mama.\n",
        "La red tiene una estructura de 4 Layers, la layer de entrada es de 16 neuronas de entrada, con la función de activación RElU, las 2 layers escondidas tiene 8 y 6 neuronas por capa respectivamente y la de salida 1 neurona con la función de activación sigmode que permite entregar un valor binario."
      ]
    },
    {
      "cell_type": "code",
      "metadata": {
        "id": "LoWtmalR80De",
        "colab_type": "code",
        "colab": {}
      },
      "source": [
        "from keras.models import Sequential\n",
        "from keras.layers import Dense\n",
        "\n",
        "classifier = Sequential() # Initialising the ANN\n",
        "\n",
        "classifier.add(Dense(units = 16, activation = 'relu', input_dim = 30))\n",
        "classifier.add(Dense(units = 8, activation = 'relu'))\n",
        "classifier.add(Dense(units = 6, activation = 'relu'))\n",
        "classifier.add(Dense(units = 1, activation = 'sigmoid'))"
      ],
      "execution_count": 0,
      "outputs": []
    },
    {
      "cell_type": "markdown",
      "metadata": {
        "id": "SlZPk07DdjYP",
        "colab_type": "text"
      },
      "source": [
        "Con este metodo, se puede ver una especie de informe describiendo la estructura de la NeuralNet configurada"
      ]
    },
    {
      "cell_type": "code",
      "metadata": {
        "id": "OYunrzgGdjC9",
        "colab_type": "code",
        "outputId": "dd5d75b3-b106-450f-966d-2ef02365ce3d",
        "colab": {
          "base_uri": "https://localhost:8080/",
          "height": 308
        }
      },
      "source": [
        "classifier.summary()"
      ],
      "execution_count": 51,
      "outputs": [
        {
          "output_type": "stream",
          "text": [
            "Model: \"sequential_2\"\n",
            "_________________________________________________________________\n",
            "Layer (type)                 Output Shape              Param #   \n",
            "=================================================================\n",
            "dense_5 (Dense)              (None, 16)                496       \n",
            "_________________________________________________________________\n",
            "dense_6 (Dense)              (None, 8)                 136       \n",
            "_________________________________________________________________\n",
            "dense_7 (Dense)              (None, 6)                 54        \n",
            "_________________________________________________________________\n",
            "dense_8 (Dense)              (None, 1)                 7         \n",
            "=================================================================\n",
            "Total params: 693\n",
            "Trainable params: 693\n",
            "Non-trainable params: 0\n",
            "_________________________________________________________________\n"
          ],
          "name": "stdout"
        }
      ]
    },
    {
      "cell_type": "markdown",
      "metadata": {
        "id": "cJ_MStxe9CbN",
        "colab_type": "text"
      },
      "source": [
        "### Definicion del Optimizador ###\n",
        ": definida la estructura de la NeuralNet, se especifica el optimizador de esta, además del tipo de perdida y exactitud que se quiere."
      ]
    },
    {
      "cell_type": "code",
      "metadata": {
        "id": "wR2O00E39C7E",
        "colab_type": "code",
        "colab": {}
      },
      "source": [
        "classifier.compile(optimizer = 'rmsprop', loss = 'binary_crossentropy', metrics = [\"accuracy\"])"
      ],
      "execution_count": 0,
      "outputs": []
    },
    {
      "cell_type": "markdown",
      "metadata": {
        "id": "Mn9WPqaP9RmN",
        "colab_type": "text"
      },
      "source": [
        "### Entrenamiento de la Red ###\n",
        "Ahora se entrena la red con los datos de entrada (x train) y sus respectivas labels (y train) para que la red aprenda a generalizar ejemplos, la red aprenderá los patrones entre los datos, iterará en 100 épocas como habitualmente se llama"
      ]
    },
    {
      "cell_type": "code",
      "metadata": {
        "id": "1QlYnFgH9N49",
        "colab_type": "code",
        "outputId": "d855fe80-4858-4dc3-8c46-54c88e050b5a",
        "colab": {
          "base_uri": "https://localhost:8080/",
          "height": 1000
        }
      },
      "source": [
        "classifier.fit(X_train, Y_train, batch_size = 1, epochs = 100 )"
      ],
      "execution_count": 53,
      "outputs": [
        {
          "output_type": "stream",
          "text": [
            "WARNING:tensorflow:From /usr/local/lib/python3.6/dist-packages/keras/backend/tensorflow_backend.py:1033: The name tf.assign_add is deprecated. Please use tf.compat.v1.assign_add instead.\n",
            "\n",
            "WARNING:tensorflow:From /usr/local/lib/python3.6/dist-packages/keras/backend/tensorflow_backend.py:1020: The name tf.assign is deprecated. Please use tf.compat.v1.assign instead.\n",
            "\n",
            "WARNING:tensorflow:From /usr/local/lib/python3.6/dist-packages/keras/backend/tensorflow_backend.py:3005: The name tf.Session is deprecated. Please use tf.compat.v1.Session instead.\n",
            "\n",
            "Epoch 1/100\n",
            "WARNING:tensorflow:From /usr/local/lib/python3.6/dist-packages/keras/backend/tensorflow_backend.py:190: The name tf.get_default_session is deprecated. Please use tf.compat.v1.get_default_session instead.\n",
            "\n",
            "WARNING:tensorflow:From /usr/local/lib/python3.6/dist-packages/keras/backend/tensorflow_backend.py:197: The name tf.ConfigProto is deprecated. Please use tf.compat.v1.ConfigProto instead.\n",
            "\n",
            "WARNING:tensorflow:From /usr/local/lib/python3.6/dist-packages/keras/backend/tensorflow_backend.py:207: The name tf.global_variables is deprecated. Please use tf.compat.v1.global_variables instead.\n",
            "\n",
            "WARNING:tensorflow:From /usr/local/lib/python3.6/dist-packages/keras/backend/tensorflow_backend.py:216: The name tf.is_variable_initialized is deprecated. Please use tf.compat.v1.is_variable_initialized instead.\n",
            "\n",
            "WARNING:tensorflow:From /usr/local/lib/python3.6/dist-packages/keras/backend/tensorflow_backend.py:223: The name tf.variables_initializer is deprecated. Please use tf.compat.v1.variables_initializer instead.\n",
            "\n",
            "455/455 [==============================] - 5s 11ms/step - loss: 0.2510 - acc: 0.9099\n",
            "Epoch 2/100\n",
            "455/455 [==============================] - 2s 5ms/step - loss: 0.1056 - acc: 0.9648\n",
            "Epoch 3/100\n",
            "455/455 [==============================] - 2s 5ms/step - loss: 0.0910 - acc: 0.9736\n",
            "Epoch 4/100\n",
            "455/455 [==============================] - 2s 5ms/step - loss: 0.0930 - acc: 0.9802\n",
            "Epoch 5/100\n",
            "455/455 [==============================] - 2s 5ms/step - loss: 0.0852 - acc: 0.9824\n",
            "Epoch 6/100\n",
            "455/455 [==============================] - 2s 5ms/step - loss: 0.0894 - acc: 0.9846\n",
            "Epoch 7/100\n",
            "455/455 [==============================] - 2s 5ms/step - loss: 0.0907 - acc: 0.9868\n",
            "Epoch 8/100\n",
            "455/455 [==============================] - 2s 5ms/step - loss: 0.1002 - acc: 0.9846\n",
            "Epoch 9/100\n",
            "455/455 [==============================] - 2s 5ms/step - loss: 0.0967 - acc: 0.9824\n",
            "Epoch 10/100\n",
            "455/455 [==============================] - 3s 6ms/step - loss: 0.0904 - acc: 0.9846\n",
            "Epoch 11/100\n",
            "455/455 [==============================] - 2s 5ms/step - loss: 0.0988 - acc: 0.9868\n",
            "Epoch 12/100\n",
            "455/455 [==============================] - 2s 5ms/step - loss: 0.0851 - acc: 0.9890\n",
            "Epoch 13/100\n",
            "455/455 [==============================] - 2s 5ms/step - loss: 0.0876 - acc: 0.9868\n",
            "Epoch 14/100\n",
            "455/455 [==============================] - 2s 5ms/step - loss: 0.0895 - acc: 0.9890\n",
            "Epoch 15/100\n",
            "455/455 [==============================] - 2s 5ms/step - loss: 0.0888 - acc: 0.9890\n",
            "Epoch 16/100\n",
            "455/455 [==============================] - 2s 5ms/step - loss: 0.0832 - acc: 0.9868\n",
            "Epoch 17/100\n",
            "455/455 [==============================] - 2s 5ms/step - loss: 0.0757 - acc: 0.9890\n",
            "Epoch 18/100\n",
            "455/455 [==============================] - 2s 5ms/step - loss: 0.0761 - acc: 0.9890\n",
            "Epoch 19/100\n",
            "455/455 [==============================] - 3s 6ms/step - loss: 0.0707 - acc: 0.9890\n",
            "Epoch 20/100\n",
            "455/455 [==============================] - 2s 5ms/step - loss: 0.0665 - acc: 0.9890\n",
            "Epoch 21/100\n",
            "455/455 [==============================] - 2s 5ms/step - loss: 0.0667 - acc: 0.9890\n",
            "Epoch 22/100\n",
            "455/455 [==============================] - 2s 5ms/step - loss: 0.0621 - acc: 0.9890\n",
            "Epoch 23/100\n",
            "455/455 [==============================] - 2s 5ms/step - loss: 0.0653 - acc: 0.9890\n",
            "Epoch 24/100\n",
            "455/455 [==============================] - 2s 5ms/step - loss: 0.0633 - acc: 0.9890\n",
            "Epoch 25/100\n",
            "455/455 [==============================] - 2s 5ms/step - loss: 0.0732 - acc: 0.9912\n",
            "Epoch 26/100\n",
            "455/455 [==============================] - 2s 5ms/step - loss: 0.0654 - acc: 0.9912\n",
            "Epoch 27/100\n",
            "455/455 [==============================] - 2s 5ms/step - loss: 0.0619 - acc: 0.9868\n",
            "Epoch 28/100\n",
            "455/455 [==============================] - 2s 5ms/step - loss: 0.0605 - acc: 0.9912\n",
            "Epoch 29/100\n",
            "455/455 [==============================] - 2s 5ms/step - loss: 0.0614 - acc: 0.9912\n",
            "Epoch 30/100\n",
            "455/455 [==============================] - 2s 5ms/step - loss: 0.0673 - acc: 0.9890\n",
            "Epoch 31/100\n",
            "455/455 [==============================] - 2s 5ms/step - loss: 0.0620 - acc: 0.9912\n",
            "Epoch 32/100\n",
            "455/455 [==============================] - 2s 5ms/step - loss: 0.0585 - acc: 0.9912\n",
            "Epoch 33/100\n",
            "455/455 [==============================] - 2s 5ms/step - loss: 0.0672 - acc: 0.9890\n",
            "Epoch 34/100\n",
            "455/455 [==============================] - 2s 5ms/step - loss: 0.0649 - acc: 0.9912\n",
            "Epoch 35/100\n",
            "455/455 [==============================] - 2s 5ms/step - loss: 0.0747 - acc: 0.9912\n",
            "Epoch 36/100\n",
            "455/455 [==============================] - 2s 5ms/step - loss: 0.0608 - acc: 0.9912\n",
            "Epoch 37/100\n",
            "455/455 [==============================] - 2s 5ms/step - loss: 0.0537 - acc: 0.9912\n",
            "Epoch 38/100\n",
            "455/455 [==============================] - 2s 5ms/step - loss: 0.0504 - acc: 0.9912\n",
            "Epoch 39/100\n",
            "455/455 [==============================] - 2s 5ms/step - loss: 0.0619 - acc: 0.9912\n",
            "Epoch 40/100\n",
            "455/455 [==============================] - 2s 5ms/step - loss: 0.0585 - acc: 0.9912\n",
            "Epoch 41/100\n",
            "455/455 [==============================] - 2s 5ms/step - loss: 0.0762 - acc: 0.9890\n",
            "Epoch 42/100\n",
            "455/455 [==============================] - 2s 5ms/step - loss: 0.0581 - acc: 0.9890\n",
            "Epoch 43/100\n",
            "455/455 [==============================] - 2s 5ms/step - loss: 0.0562 - acc: 0.9912\n",
            "Epoch 44/100\n",
            "455/455 [==============================] - 2s 5ms/step - loss: 0.0512 - acc: 0.9890\n",
            "Epoch 45/100\n",
            "455/455 [==============================] - 2s 5ms/step - loss: 0.0553 - acc: 0.9934\n",
            "Epoch 46/100\n",
            "455/455 [==============================] - 2s 5ms/step - loss: 0.0506 - acc: 0.9890\n",
            "Epoch 47/100\n",
            "455/455 [==============================] - 2s 5ms/step - loss: 0.0455 - acc: 0.9934\n",
            "Epoch 48/100\n",
            "455/455 [==============================] - 2s 5ms/step - loss: 0.0340 - acc: 0.9934\n",
            "Epoch 49/100\n",
            "455/455 [==============================] - 2s 5ms/step - loss: 0.0466 - acc: 0.9890\n",
            "Epoch 50/100\n",
            "455/455 [==============================] - 2s 5ms/step - loss: 0.0370 - acc: 0.9912\n",
            "Epoch 51/100\n",
            "455/455 [==============================] - 2s 5ms/step - loss: 0.0449 - acc: 0.9912\n",
            "Epoch 52/100\n",
            "455/455 [==============================] - 3s 6ms/step - loss: 0.0430 - acc: 0.9890\n",
            "Epoch 53/100\n",
            "455/455 [==============================] - 2s 5ms/step - loss: 0.0503 - acc: 0.9868\n",
            "Epoch 54/100\n",
            "455/455 [==============================] - 2s 5ms/step - loss: 0.0554 - acc: 0.9912\n",
            "Epoch 55/100\n",
            "455/455 [==============================] - 2s 5ms/step - loss: 0.0486 - acc: 0.9912\n",
            "Epoch 56/100\n",
            "455/455 [==============================] - 2s 5ms/step - loss: 0.0352 - acc: 0.9934\n",
            "Epoch 57/100\n",
            "455/455 [==============================] - 2s 5ms/step - loss: 0.0428 - acc: 0.9934\n",
            "Epoch 58/100\n",
            "455/455 [==============================] - 2s 5ms/step - loss: 0.0338 - acc: 0.9934\n",
            "Epoch 59/100\n",
            "455/455 [==============================] - 3s 6ms/step - loss: 0.0505 - acc: 0.9912\n",
            "Epoch 60/100\n",
            "455/455 [==============================] - 2s 5ms/step - loss: 0.0381 - acc: 0.9934\n",
            "Epoch 61/100\n",
            "455/455 [==============================] - 3s 6ms/step - loss: 0.0594 - acc: 0.9890\n",
            "Epoch 62/100\n",
            "455/455 [==============================] - 3s 6ms/step - loss: 0.0390 - acc: 0.9934\n",
            "Epoch 63/100\n",
            "455/455 [==============================] - 2s 5ms/step - loss: 0.0450 - acc: 0.9934\n",
            "Epoch 64/100\n",
            "455/455 [==============================] - 2s 5ms/step - loss: 0.0345 - acc: 0.9934\n",
            "Epoch 65/100\n",
            "455/455 [==============================] - 2s 5ms/step - loss: 0.0433 - acc: 0.9934\n",
            "Epoch 66/100\n",
            "455/455 [==============================] - 2s 5ms/step - loss: 0.0372 - acc: 0.9934\n",
            "Epoch 67/100\n",
            "455/455 [==============================] - 2s 5ms/step - loss: 0.0326 - acc: 0.9934\n",
            "Epoch 68/100\n",
            "455/455 [==============================] - 2s 5ms/step - loss: 0.0304 - acc: 0.9934\n",
            "Epoch 69/100\n",
            "455/455 [==============================] - 2s 5ms/step - loss: 0.0185 - acc: 0.9934\n",
            "Epoch 70/100\n",
            "455/455 [==============================] - 2s 5ms/step - loss: 0.0395 - acc: 0.9912\n",
            "Epoch 71/100\n",
            "455/455 [==============================] - 2s 5ms/step - loss: 0.0361 - acc: 0.9934\n",
            "Epoch 72/100\n",
            "455/455 [==============================] - 2s 5ms/step - loss: 0.0349 - acc: 0.9934\n",
            "Epoch 73/100\n",
            "455/455 [==============================] - 2s 5ms/step - loss: 0.0280 - acc: 0.9934\n",
            "Epoch 74/100\n",
            "455/455 [==============================] - 2s 5ms/step - loss: 0.0319 - acc: 0.9934\n",
            "Epoch 75/100\n",
            "455/455 [==============================] - 2s 5ms/step - loss: 0.0314 - acc: 0.9934\n",
            "Epoch 76/100\n",
            "455/455 [==============================] - 2s 5ms/step - loss: 0.0290 - acc: 0.9934\n",
            "Epoch 77/100\n",
            "455/455 [==============================] - 2s 5ms/step - loss: 0.0316 - acc: 0.9934\n",
            "Epoch 78/100\n",
            "455/455 [==============================] - 2s 5ms/step - loss: 0.0283 - acc: 0.9934\n",
            "Epoch 79/100\n",
            "455/455 [==============================] - 3s 6ms/step - loss: 0.0388 - acc: 0.9934\n",
            "Epoch 80/100\n",
            "455/455 [==============================] - 2s 5ms/step - loss: 0.0331 - acc: 0.9934\n",
            "Epoch 81/100\n",
            "455/455 [==============================] - 2s 5ms/step - loss: 0.0263 - acc: 0.9934\n",
            "Epoch 82/100\n",
            "455/455 [==============================] - 2s 5ms/step - loss: 0.0293 - acc: 0.9934\n",
            "Epoch 83/100\n",
            "455/455 [==============================] - 2s 5ms/step - loss: 0.0266 - acc: 0.9934\n",
            "Epoch 84/100\n",
            "455/455 [==============================] - 2s 5ms/step - loss: 0.0269 - acc: 0.9934\n",
            "Epoch 85/100\n",
            "455/455 [==============================] - 2s 5ms/step - loss: 0.0278 - acc: 0.9912\n",
            "Epoch 86/100\n",
            "455/455 [==============================] - 2s 5ms/step - loss: 0.0307 - acc: 0.9934\n",
            "Epoch 87/100\n",
            "455/455 [==============================] - 2s 5ms/step - loss: 0.0133 - acc: 0.9956\n",
            "Epoch 88/100\n",
            "455/455 [==============================] - 2s 5ms/step - loss: 0.0339 - acc: 0.9934\n",
            "Epoch 89/100\n",
            "455/455 [==============================] - 2s 5ms/step - loss: 0.0606 - acc: 0.9934\n",
            "Epoch 90/100\n",
            "455/455 [==============================] - 2s 5ms/step - loss: 0.0356 - acc: 0.9934\n",
            "Epoch 91/100\n",
            "455/455 [==============================] - 2s 5ms/step - loss: 0.0197 - acc: 0.9934\n",
            "Epoch 92/100\n",
            "455/455 [==============================] - 2s 5ms/step - loss: 0.0185 - acc: 0.9934\n",
            "Epoch 93/100\n",
            "455/455 [==============================] - 2s 5ms/step - loss: 0.0369 - acc: 0.9934\n",
            "Epoch 94/100\n",
            "455/455 [==============================] - 2s 5ms/step - loss: 0.0266 - acc: 0.9934\n",
            "Epoch 95/100\n",
            "455/455 [==============================] - 2s 5ms/step - loss: 0.0111 - acc: 0.9978\n",
            "Epoch 96/100\n",
            "455/455 [==============================] - 2s 5ms/step - loss: 0.0194 - acc: 0.9934\n",
            "Epoch 97/100\n",
            "455/455 [==============================] - 2s 5ms/step - loss: 0.0350 - acc: 0.9934\n",
            "Epoch 98/100\n",
            "455/455 [==============================] - 2s 5ms/step - loss: 0.0314 - acc: 0.9934\n",
            "Epoch 99/100\n",
            "455/455 [==============================] - 2s 5ms/step - loss: 0.0149 - acc: 0.9934\n",
            "Epoch 100/100\n",
            "455/455 [==============================] - 2s 5ms/step - loss: 0.0206 - acc: 0.9934\n"
          ],
          "name": "stdout"
        },
        {
          "output_type": "execute_result",
          "data": {
            "text/plain": [
              "<keras.callbacks.History at 0x7fe5a3d3b160>"
            ]
          },
          "metadata": {
            "tags": []
          },
          "execution_count": 53
        }
      ]
    },
    {
      "cell_type": "markdown",
      "metadata": {
        "id": "ZuLmgy9MdlO8",
        "colab_type": "text"
      },
      "source": [
        "Con este metodo podemos conocer los parametros de perdida y exactitud que tiene nuestra NeuralNet, y así orientarnos sobre el rendimiento de nuestra configuracion previa."
      ]
    },
    {
      "cell_type": "code",
      "metadata": {
        "id": "jNi4b-fpdkaP",
        "colab_type": "code",
        "colab": {
          "base_uri": "https://localhost:8080/",
          "height": 53
        },
        "outputId": "48892c4e-695a-4e44-fd1f-42c41322e137"
      },
      "source": [
        "classifier.evaluate(X_test, Y_test)\n",
        "# primer valor: loss - perdida\n",
        "# segundo valor: accuracy - exactitud"
      ],
      "execution_count": 56,
      "outputs": [
        {
          "output_type": "stream",
          "text": [
            "114/114 [==============================] - 0s 728us/step\n"
          ],
          "name": "stdout"
        },
        {
          "output_type": "execute_result",
          "data": {
            "text/plain": [
              "[0.1943360811094368, 0.9649122775646678]"
            ]
          },
          "metadata": {
            "tags": []
          },
          "execution_count": 56
        }
      ]
    },
    {
      "cell_type": "markdown",
      "metadata": {
        "id": "yrnGgtfn9gsE",
        "colab_type": "text"
      },
      "source": [
        "## Prediccion del modelo de NeuralNet ##\n",
        "Ahora, para poder predecir nuevos valores, probamos un conjunto de datos no entrenados de prueba (x test) para predecir su label, o mejor dicho para que la NeuralNet sea capaz de dar en probabilidades y asignar que es lo más probable que sea comparado con el resultado real, si es que tiene un tumor benigno ( 1 dado por valores mayores o iguales a 0.5) o maligno (0 para valores menores a 0.5)."
      ]
    },
    {
      "cell_type": "code",
      "metadata": {
        "id": "xEaG0Tkx9fUU",
        "colab_type": "code",
        "colab": {}
      },
      "source": [
        "y_pred = classifier.predict(X_test)\n",
        "y_pred = [ 1 if y>=0.5 else 0 for y in y_pred ]"
      ],
      "execution_count": 0,
      "outputs": []
    },
    {
      "cell_type": "markdown",
      "metadata": {
        "id": "8NkUP1mSa-J2",
        "colab_type": "text"
      },
      "source": [
        "Ahora probamos y vemos graficamente los resultados en comparacion con los reales, primero mostramos los resultados del 10 al 20 de la prediccion vs los resultados 10 al 20 de los reales."
      ]
    },
    {
      "cell_type": "code",
      "metadata": {
        "id": "OYRlpsF0aG4K",
        "colab_type": "code",
        "outputId": "ad74b35f-8240-4952-9214-fd4ddb124cd2",
        "colab": {
          "base_uri": "https://localhost:8080/",
          "height": 199
        }
      },
      "source": [
        "for i in range(10,20):\n",
        "  print(y_pred[i])"
      ],
      "execution_count": 58,
      "outputs": [
        {
          "output_type": "stream",
          "text": [
            "0\n",
            "0\n",
            "0\n",
            "0\n",
            "1\n",
            "1\n",
            "0\n",
            "1\n",
            "1\n",
            "1\n"
          ],
          "name": "stdout"
        }
      ]
    },
    {
      "cell_type": "code",
      "metadata": {
        "id": "sU0hpEBWTyBJ",
        "colab_type": "code",
        "outputId": "07ab7e8b-ce8b-4bb2-85ba-bdf27cab8cf4",
        "colab": {
          "base_uri": "https://localhost:8080/",
          "height": 363
        }
      },
      "source": [
        "Y_test[10:20]"
      ],
      "execution_count": 59,
      "outputs": [
        {
          "output_type": "execute_result",
          "data": {
            "text/html": [
              "<div>\n",
              "<style scoped>\n",
              "    .dataframe tbody tr th:only-of-type {\n",
              "        vertical-align: middle;\n",
              "    }\n",
              "\n",
              "    .dataframe tbody tr th {\n",
              "        vertical-align: top;\n",
              "    }\n",
              "\n",
              "    .dataframe thead th {\n",
              "        text-align: right;\n",
              "    }\n",
              "</style>\n",
              "<table border=\"1\" class=\"dataframe\">\n",
              "  <thead>\n",
              "    <tr style=\"text-align: right;\">\n",
              "      <th></th>\n",
              "      <th>0</th>\n",
              "    </tr>\n",
              "  </thead>\n",
              "  <tbody>\n",
              "    <tr>\n",
              "      <th>10</th>\n",
              "      <td>0.0</td>\n",
              "    </tr>\n",
              "    <tr>\n",
              "      <th>11</th>\n",
              "      <td>0.0</td>\n",
              "    </tr>\n",
              "    <tr>\n",
              "      <th>12</th>\n",
              "      <td>0.0</td>\n",
              "    </tr>\n",
              "    <tr>\n",
              "      <th>13</th>\n",
              "      <td>0.0</td>\n",
              "    </tr>\n",
              "    <tr>\n",
              "      <th>14</th>\n",
              "      <td>0.0</td>\n",
              "    </tr>\n",
              "    <tr>\n",
              "      <th>15</th>\n",
              "      <td>1.0</td>\n",
              "    </tr>\n",
              "    <tr>\n",
              "      <th>16</th>\n",
              "      <td>0.0</td>\n",
              "    </tr>\n",
              "    <tr>\n",
              "      <th>17</th>\n",
              "      <td>1.0</td>\n",
              "    </tr>\n",
              "    <tr>\n",
              "      <th>18</th>\n",
              "      <td>1.0</td>\n",
              "    </tr>\n",
              "    <tr>\n",
              "      <th>19</th>\n",
              "      <td>1.0</td>\n",
              "    </tr>\n",
              "  </tbody>\n",
              "</table>\n",
              "</div>"
            ],
            "text/plain": [
              "      0\n",
              "10  0.0\n",
              "11  0.0\n",
              "12  0.0\n",
              "13  0.0\n",
              "14  0.0\n",
              "15  1.0\n",
              "16  0.0\n",
              "17  1.0\n",
              "18  1.0\n",
              "19  1.0"
            ]
          },
          "metadata": {
            "tags": []
          },
          "execution_count": 59
        }
      ]
    },
    {
      "cell_type": "markdown",
      "metadata": {
        "id": "TExQXUChXmI1",
        "colab_type": "text"
      },
      "source": [
        "### Resultados ###\n",
        "Ahora se puede apreciar la cantidad total de casos correctos y erroneos en los cuales se acertó o no en la predicción, como se vé en los resultados, el error es minimo."
      ]
    },
    {
      "cell_type": "code",
      "metadata": {
        "id": "he_2VHJ_9yC1",
        "colab_type": "code",
        "outputId": "15d3e554-cae2-41ca-c4f4-27db277cb2bd",
        "colab": {
          "base_uri": "https://localhost:8080/",
          "height": 72
        }
      },
      "source": [
        "total, correct, wrong = 0, 0, 0\n",
        "for i in range(len(y_pred)):\n",
        "  total = total + 1\n",
        "  if(Y_test.at[i,0] == y_pred[i]):\n",
        "    correct = correct + 1\n",
        "  else:\n",
        "    wrong = wrong + 1\n",
        "\n",
        "print(\"Total \" + str(total))\n",
        "print(\"Correct \" + str(correct))\n",
        "print(\"Wrong \" + str(wrong))"
      ],
      "execution_count": 63,
      "outputs": [
        {
          "output_type": "stream",
          "text": [
            "Total 114\n",
            "Correct 110\n",
            "Wrong 4\n"
          ],
          "name": "stdout"
        }
      ]
    }
  ]
}